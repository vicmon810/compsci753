{
 "cells": [
  {
   "cell_type": "markdown",
   "id": "43dd812b",
   "metadata": {},
   "source": [
    "# Brute-force Algorithm \n",
    "\n",
    "### (a) Compute the average frequency of the words in the stream. "
   ]
  },
  {
   "cell_type": "code",
   "execution_count": 2,
   "id": "7d4154e1",
   "metadata": {},
   "outputs": [
    {
     "name": "stdout",
     "output_type": "stream",
     "text": [
      "['1', 'describe new algorithm k \\\\ell -pebble game colors use obtain characterization family k \\\\ell -sparse graphs algorithmic solutions family problems concerning tree decompositions graphs Special instances sparse graphs appear rigidity theory received increased attention recent years particular colored pebbles generalize strengthen previous results Lee Streinu give new proof Tutte-Nash-Williams characterization arboricity also present new decomposition certifies sparsity based k \\\\ell -pebble game colors work also exposes connections pebble game algorithms previous sparse graph algorithms Gabow Gabow Westermann Hendrickson', 'Sat, 31 Mar 2007 02:26:18 \\n']\n",
      "['2', 'show determinant Stirling cycle numbers counts unlabeled acyclic single-source automata proof involves bijection automata certain marked lattice paths sign-reversing involution evaluate determinant', 'Sat, 31 Mar 2007 03:16:14 \\n']\n",
      "['3', 'study two-particle wave function paired atoms Fermi gas tunable interaction strengths controlled Feshbach resonance Cooper pair wave function examined bosonic characters quantified correction Bose enhancement factor associated creation annihilation composite particle operators example given three-dimensional uniform gas Two definitions Cooper pair wave function examined One chosen reflect off-diagonal long range order ODLRO Another one corresponds pair projection BCS state side negative scattering length found paired atoms described ODLRO bosonic pair projected definition also found k_F -1 \\\\ge 1 definitions give similar results 90 atoms occupy corresponding molecular condensates', 'Sat, 31 Mar 2007 04:24:59 \\n']\n",
      "['4', 'rather non-standard quantum representation canonical commutation relations quantum mechanics systems known polymer representation gained attention recent years due possible relation Planck scale physics particular approach followed symmetric sector loop quantum gravity known loop quantum cosmology explore different aspects relation ordinary Schroedinger theory polymer description paper two parts first one derive polymer quantum mechanics starting ordinary Schroedinger theory show polymer description arises appropriate limit second part consider continuum limit theory namely reverse process one starts discrete theory tries recover back ordinary Schroedinger quantum mechanics consider several examples interest including harmonic oscillator free particle simple cosmological model', 'Sat, 31 Mar 2007 04:27:22 \\n']\n",
      "['5', 'general formulation developed represent material models applications dynamic loading Numerical methods devised calculate response shock ramp compression ramp decompression generalizing previous solutions scalar equations state numerical methods found flexible robust matched analytic results high accuracy basic ramp shock solution methods coupled solve composite deformation paths shock-induced impacts shock interactions planar interface different materials calculations capture much physics typical material dynamics experiments without requiring spatially-resolving simulations Example calculations made loading histories metals illustrating effects plastic work temperatures induced quasi-isentropic shock-release experiments effect phase transition', 'Sat, 31 Mar 2007 04:47:20 \\n']\n",
      "['6', \"Partial cubes isometric subgraphs hypercubes Structures graph defined means semicubes Djokovi\\\\ c 's Winkler 's relations play important role theory partial cubes structures employed paper characterize bipartite graphs partial cubes arbitrary dimension New characterizations established new proofs known results given operations Cartesian product pasting expansion contraction processes utilized paper construct new partial cubes old ones particular isometric lattice dimensions finite partial cubes obtained means operations calculated\", 'Sat, 31 Mar 2007 05:10:16 \\n']\n",
      "['7', 'paper present algorithm computing Hecke eigensystems Hilbert-Siegel cusp forms real quadratic fields narrow class number one give illustrative examples using quadratic field \\\\Q \\\\sqrt 5 examples identify Hilbert-Siegel eigenforms possible lifts Hilbert eigenforms', 'Sat, 31 Mar 2007 05:32:49 \\n']\n",
      "['8', \"Recently Bruinier Ono classified cusp forms f z \\\\sum_ n=0 \\\\infty a_f n q ^n \\\\in S_ \\\\lambda+1/2 \\\\Gamma_0 N \\\\chi \\\\cap \\\\mathbb Z q satisfy certain distribution property modulo odd primes p paper using Rankin-Cohen Bracket extend result modular forms half integral weight primes p \\\\geq 5 applications main theorem derive distribution properties modulo primes p\\\\geq5 traces singular moduli Hurwitz class number also study analogue Newman 's conjecture overpartitions\", 'Sat, 31 Mar 2007 05:48:51 \\n']\n",
      "['9', 'Serre obtained p-adic limit integral Fourier coefficient modular forms SL_2 \\\\mathbb Z p=2,3,5,7 paper extend result Serre weakly holomorphic modular forms half integral weight \\\\Gamma_ 0 4N N=1,2,4 proof based linear relations among Fourier coefficients modular forms half integral weight applications obtain congruences Borcherds exponents congruences quotient Eisentein series congruences values L -functions certain point also studied Furthermore congruences Fourier coefficients Siegel modular forms Maass Space obtained using Ikeda lifting', 'Sat, 31 Mar 2007 06:21:49 \\n']\n",
      "['10', 'work evaluate lifetimes doubly charmed baryons \\\\Xi_ cc \\\\Xi_ cc ++ \\\\Omega_ cc carefully calculate non-spectator contributions quark level Cabibbo-suppressed diagrams also included hadronic matrix elements evaluated simple non-relativistic harmonic oscillator model numerical results generally consistent obtained authors used diquark model However theoretical predictions lifetimes one order larger upper limit set recent SELEX measurement discrepancy would clarified future experiment accurate experiment still confirms value SELEX collaboration must unknown mechanism explored', 'Sat, 31 Mar 2007 07:04:26 \\n']\n"
     ]
    },
    {
     "data": {
      "text/plain": [
       "([],\n",
       " ['10',\n",
       "  'work evaluate lifetimes doubly charmed baryons \\\\Xi_ cc \\\\Xi_ cc ++ \\\\Omega_ cc carefully calculate non-spectator contributions quark level Cabibbo-suppressed diagrams also included hadronic matrix elements evaluated simple non-relativistic harmonic oscillator model numerical results generally consistent obtained authors used diquark model However theoretical predictions lifetimes one order larger upper limit set recent SELEX measurement discrepancy would clarified future experiment accurate experiment still confirms value SELEX collaboration must unknown mechanism explored',\n",
       "  'Sat, 31 Mar 2007 07:04:26 \\n'],\n",
       " [])"
      ]
     },
     "execution_count": 2,
     "metadata": {},
     "output_type": "execute_result"
    }
   ],
   "source": [
    "import numpy as np\n",
    "import time\n",
    "\n",
    "def read_words (file_path):\n",
    "    article_id = []\n",
    "    words = []\n",
    "    date = []\n",
    "    with open(file_path, 'r') as file:\n",
    "        for line in file:\n",
    "            words = line.split(\"\\t\")\n",
    "            print(words)            \n",
    "    return article_id, words, date\n",
    "\n",
    "read_words(\"test.txt\")\n"
   ]
  },
  {
   "cell_type": "code",
   "execution_count": null,
   "metadata": {},
   "outputs": [],
   "source": [
    "#"
   ]
  },
  {
   "cell_type": "markdown",
   "id": "8d08c0fa",
   "metadata": {},
   "source": []
  }
 ],
 "metadata": {
  "kernelspec": {
   "display_name": "base",
   "language": "python",
   "name": "python3"
  },
  "language_info": {
   "codemirror_mode": {
    "name": "ipython",
    "version": 3
   },
   "file_extension": ".py",
   "mimetype": "text/x-python",
   "name": "python",
   "nbconvert_exporter": "python",
   "pygments_lexer": "ipython3",
   "version": "3.12.2"
  }
 },
 "nbformat": 4,
 "nbformat_minor": 5
}
