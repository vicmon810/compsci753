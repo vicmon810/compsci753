{
 "cells": [
  {
   "cell_type": "markdown",
   "id": "0e1984f1",
   "metadata": {},
   "source": [
    "# 1 Construct LSH Hash Tables\n",
    "\n",
    "\n",
    "### a)Load bitvector users.csv. Construct a feature vector for each user in the dataset. Please report the number of users (|U |) and the number of features (n) for the loaded data\n"
   ]
  },
  {
   "cell_type": "code",
   "execution_count": 52,
   "id": "b010de8e",
   "metadata": {},
   "outputs": [
    {
     "name": "stdout",
     "output_type": "stream",
     "text": [
      "Number of users: 2574\n",
      "Number of features (businesses): 7857\n",
      "   0  1  2  3  4  5  6  7  8  9  ...  7848  7849  7850  7851  7852  7853  \\\n",
      "0  0  1  0  0  0  0  0  0  0  0  ...     0     0     0     0     0     0   \n",
      "1  1  0  1  0  0  0  0  0  0  0  ...     0     0     0     0     0     0   \n",
      "2  2  0  0  1  0  0  0  0  0  0  ...     0     0     0     0     0     0   \n",
      "3  3  0  0  1  1  0  0  0  0  0  ...     0     0     0     0     0     0   \n",
      "4  4  0  0  0  0  1  0  0  0  0  ...     0     0     0     0     0     0   \n",
      "\n",
      "   7854  7855  User_ID                                 Visited_Businesses  \n",
      "0     0     0        0  [1, 0, 0, 0, 0, 0, 0, 0, 0, 0, 0, 0, 0, 0, 0, ...  \n",
      "1     0     0        1  [0, 1, 0, 0, 0, 0, 0, 0, 0, 0, 0, 0, 0, 0, 0, ...  \n",
      "2     0     0        2  [0, 0, 1, 0, 0, 0, 0, 0, 0, 0, 1, 0, 0, 0, 0, ...  \n",
      "3     0     0        3  [0, 0, 1, 1, 0, 0, 0, 0, 0, 0, 1, 0, 0, 0, 0, ...  \n",
      "4     0     0        4  [0, 0, 0, 0, 1, 0, 0, 0, 0, 0, 0, 0, 0, 0, 0, ...  \n",
      "\n",
      "[5 rows x 7858 columns]\n"
     ]
    }
   ],
   "source": [
    "\n",
    "import pandas as pd\n",
    "import numpy as np\n",
    "import random\n",
    "from collections import defaultdict\n",
    "from itertools import combinations\n",
    "\n",
    "\n",
    "# Load the dataset\n",
    "data = pd.read_csv('bitvector_users.csv', sep='\\t', header=None)\n",
    "\n",
    "# The first column is the User_ID, and the rest are the visited businesses\n",
    "data['User_ID'] = data.iloc[:, 0]\n",
    "data['Visited_Businesses'] = data.iloc[:, 1:].values.tolist()  # Convert remaining columns to a list of bitvectors\n",
    "\n",
    "# Now you have two columns: User_ID and Visited_Businesses\n",
    "print(f\"Number of users: {data.shape[0]}\")\n",
    "print(f\"Number of features (businesses): {data.shape[1] - 1}\")\n",
    "\n",
    "# Verify the structure\n",
    "# print(data.head())\n"
   ]
  },
  {
   "cell_type": "markdown",
   "id": "e6ffec5c",
   "metadata": {},
   "source": [
    "### b)onstruct a family of MinHash functions in the LSH family. You can choose a prime number, denoted as p, and coefficients 0 < a < p, 0 ≤ b < p. Let the tunable hash size k, and report the family of MinHash functions you have generated with k ∈ {1, 2, 3, 4}, respectively. "
   ]
  },
  {
   "cell_type": "code",
   "execution_count": 54,
   "id": "c7bf64ea",
   "metadata": {},
   "outputs": [
    {
     "name": "stdout",
     "output_type": "stream",
     "text": [
      "MinHash functions for k = 1: [(363, 351)]\n",
      "MinHash functions for k = 2: [(3, 356), (213, 511)]\n",
      "MinHash functions for k = 3: [(463, 382), (265, 370), (225, 422)]\n",
      "MinHash functions for k = 4: [(68, 320), (45, 376), (351, 667), (365, 428)]\n"
     ]
    }
   ],
   "source": [
    "import random\n",
    "\n",
    "# Prime number and coefficients\n",
    "p = 753  # Example prime number, you can change it if necessary\n",
    "k_values = [1, 2, 3, 4]  # Values of k to be tested\n",
    "\n",
    "# Generate MinHash functions\n",
    "def generate_minhash_functions(k, p, num_features):\n",
    "    minhash_functions = []\n",
    "    for _ in range(k):\n",
    "        a = random.randint(1, p - 1)  # a is between 1 and p-1\n",
    "        b = random.randint(0, p - 1)  # b is between 0 and p-1\n",
    "        minhash_functions.append((a, b))\n",
    "    return minhash_functions\n",
    "\n",
    "# Generate MinHash functions for k = 1, 2, 3, 4 and report them\n",
    "for k in k_values:\n",
    "    functions = generate_minhash_functions(k, p, num_features)\n",
    "    print(f\"MinHash functions for k = {k}: {functions}\")\n"
   ]
  },
  {
   "cell_type": "markdown",
   "id": "29964dbf",
   "metadata": {},
   "source": [
    "### c) Construct one (L = 1) LSH hash table2 using MinHash functions with bucket size (m = 3000) with k = 2. Report all users collided with the user with ID = 2186 in the constructed hash table and their corresponding Jaccard similarity. "
   ]
  },
  {
   "cell_type": "code",
   "execution_count": 56,
   "id": "854a85c7",
   "metadata": {},
   "outputs": [
    {
     "name": "stdout",
     "output_type": "stream",
     "text": [
      "Users collided with user 2186:\n",
      "User 2050 with Jaccard similarity: 0.8779\n",
      "User 2527 with Jaccard similarity: 0.7939\n",
      "User 1105 with Jaccard similarity: 0.4715\n",
      "User 676 with Jaccard similarity: 0.2796\n",
      "User 179 with Jaccard similarity: 0.0769\n"
     ]
    }
   ],
   "source": [
    "import pandas as pd\n",
    "import numpy as np\n",
    "import random\n",
    "from collections import defaultdict\n",
    "\n",
    "\n",
    "# Parameters\n",
    "k = 2  # Number of hash functions\n",
    "bucket_size = 3000  # Size of buckets for hashing\n",
    "user_id_target = 2186  # Target user ID\n",
    "\n",
    "# Step 2: MinHash function\n",
    "def generate_minhash_functions(k, p, num_features):\n",
    "    minhash_functions = []\n",
    "    for _ in range(k):\n",
    "        a = random.randint(1, p-1)\n",
    "        b = random.randint(0, p-1)\n",
    "        minhash_functions.append((a, b))\n",
    "    return minhash_functions\n",
    "\n",
    "# Apply MinHash to a user's bit vector\n",
    "def minhash(bit_vector, hash_function, p, num_features):\n",
    "    a, b = hash_function\n",
    "    # Simple hashing based on dot product and modulo prime p\n",
    "    return (a * np.dot(bit_vector, np.arange(num_features)) + b) % p\n",
    "\n",
    "# Step 3: Construct one LSH hash table\n",
    "def construct_lsh_table(data, k, p, bucket_size):\n",
    "    num_features = len(data['Visited_Businesses'][0])  # Number of businesses/features\n",
    "    hash_functions = generate_minhash_functions(k, p, num_features)\n",
    "    \n",
    "    lsh_table = defaultdict(list)\n",
    "\n",
    "    for index, row in data.iterrows():\n",
    "        user_id = row['User_ID']\n",
    "        bit_vector = row['Visited_Businesses']\n",
    "        # Generate the minhash signature for the user\n",
    "        minhash_signature = tuple([minhash(bit_vector, h, p, num_features) for h in hash_functions])\n",
    "        bucket = hash(minhash_signature) % bucket_size\n",
    "        lsh_table[bucket].append(user_id)\n",
    "    \n",
    "    return lsh_table, hash_functions\n",
    "\n",
    "# Step 4: Compute Jaccard similarity\n",
    "def jaccard_similarity(vec1, vec2):\n",
    "    intersection = np.sum(np.minimum(vec1, vec2))\n",
    "    union = np.sum(np.maximum(vec1, vec2))\n",
    "    return intersection / union\n",
    "\n",
    "# Construct the LSH table with k=2\n",
    "lsh_table, hash_functions = construct_lsh_table(data, k=2, p=p, bucket_size=bucket_size)\n",
    "\n",
    "# Find the bucket for the target user (ID=2186)\n",
    "target_vector = data[data['User_ID'] == user_id_target]['Visited_Businesses'].values[0]\n",
    "target_signature = tuple([minhash(target_vector, h, p, len(target_vector)) for h in hash_functions])\n",
    "target_bucket = hash(target_signature) % bucket_size\n",
    "\n",
    "# Step 5: Find all users who collide with the target user\n",
    "collided_users = lsh_table[target_bucket]\n",
    "\n",
    "# Step 6: Compute Jaccard similarity for each collided user\n",
    "similarities = []\n",
    "for user_id in collided_users:\n",
    "    if user_id == user_id_target:\n",
    "        continue  # Skip the target user itself\n",
    "    user_vector = data[data['User_ID'] == user_id]['Visited_Businesses'].values[0]\n",
    "    similarity = jaccard_similarity(target_vector, user_vector)\n",
    "    similarities.append((user_id, similarity))\n",
    "\n",
    "# Sort collided users by Jaccard similarity in descending order\n",
    "similarities = sorted(similarities, key=lambda x: x[1], reverse=True)\n",
    "\n",
    "# Step 7: Print the results\n",
    "print(f\"Users collided with user {user_id_target}:\")\n",
    "for user, sim in similarities:\n",
    "    print(f\"User {user} with Jaccard similarity: {sim:.4f}\")\n"
   ]
  },
  {
   "cell_type": "markdown",
   "id": "9840b078",
   "metadata": {},
   "source": [
    "### d)Construct L = 10 LSH hash tables using MinHash functions with bucket size (m = 3000) and k = 2. Report all users collided with the user with ID = 2186 in at least one hash table and their corresponding Jaccard similarit"
   ]
  },
  {
   "cell_type": "code",
   "execution_count": 57,
   "id": "b7fc38ae",
   "metadata": {},
   "outputs": [
    {
     "name": "stdout",
     "output_type": "stream",
     "text": [
      "Users collided with user 2186 in at least one LSH table:\n",
      "User 2103 with Jaccard similarity: 0.8957\n",
      "User 2385 with Jaccard similarity: 0.8262\n",
      "User 1812 with Jaccard similarity: 0.7728\n",
      "User 1440 with Jaccard similarity: 0.6146\n",
      "User 1276 with Jaccard similarity: 0.5488\n",
      "User 1275 with Jaccard similarity: 0.5309\n",
      "User 1232 with Jaccard similarity: 0.5101\n",
      "User 437 with Jaccard similarity: 0.1881\n"
     ]
    }
   ],
   "source": [
    "# Parameter\n",
    "L = 10  # Number of LSH tables\n",
    "\n",
    "# Construct multiple LSH tables\n",
    "def construct_multiple_lsh_tables(data, L, k, p, bucket_size):\n",
    "    num_features = len(data['Visited_Businesses'][0])\n",
    "    lsh_tables = []\n",
    "    for _ in range(L):\n",
    "        hash_functions = generate_minhash_functions(k, p, num_features)\n",
    "        lsh_table = defaultdict(list)\n",
    "        for index, row in data.iterrows():\n",
    "            user_id = row['User_ID']\n",
    "            bit_vector = row['Visited_Businesses']\n",
    "            minhash_signature = tuple([minhash(bit_vector, h, p, num_features) for h in hash_functions])\n",
    "            bucket = hash(minhash_signature) % bucket_size\n",
    "            lsh_table[bucket].append(user_id)\n",
    "        lsh_tables.append((lsh_table, hash_functions))\n",
    "    return lsh_tables\n",
    "\n",
    "lsh_tables = construct_multiple_lsh_tables(data, L, k=2, p=p, bucket_size=bucket_size)\n",
    "\n",
    "\n",
    "# Find the users that collide with the target user (ID=2186) in at least one table\n",
    "target_vector = data[data['User_ID'] == user_id_target]['Visited_Businesses'].values[0]\n",
    "collided_users_set = set()\n",
    "\n",
    "for lsh_table, hash_functions in lsh_tables:\n",
    "    target_signature = tuple([minhash(target_vector, h, p, len(target_vector)) for h in hash_functions])\n",
    "    target_bucket = hash(target_signature) % bucket_size\n",
    "    collided_users_set.update(lsh_table[target_bucket])\n",
    "\n",
    "#Compute Jaccard similarity for each collided user\n",
    "similarities = []\n",
    "for user_id in collided_users_set:\n",
    "    if user_id == user_id_target:\n",
    "        continue  # Skip the target user itself\n",
    "    user_vector = data[data['User_ID'] == user_id]['Visited_Businesses'].values[0]\n",
    "    similarity = jaccard_similarity(target_vector, user_vector)\n",
    "    similarities.append((user_id, similarity))\n",
    "\n",
    "# Sort by similarity\n",
    "similarities = sorted(similarities, key=lambda x: x[1], reverse=True)\n",
    "#Print the results\n",
    "print(f\"Users collided with user {user_id_target} in at least one LSH table:\")\n",
    "for user, sim in similarities:\n",
    "    print(f\"User {user} with Jaccard similarity: {sim:.4f}\")\n"
   ]
  },
  {
   "cell_type": "markdown",
   "id": "63d2a6b9",
   "metadata": {},
   "source": [
    "# Nearest Neighbor Search\n",
    "\n",
    "### a)uery the LSH tables constructed in Question 1(d) and return the top-5 users with the highest Jaccard similarities as the answer. Consider a query set of user IDs Q = {295, 1053, 1080, 2186}. To compute the search results for each query user q ∈ Q by following the three steps\n",
    "\n",
    "1): find the set of users Uq that collide with q ∈ Q in at least one hash table."
   ]
  },
  {
   "cell_type": "code",
   "execution_count": 58,
   "id": "e3b13551",
   "metadata": {},
   "outputs": [
    {
     "name": "stdout",
     "output_type": "stream",
     "text": [
      "Query User 295 collided with the following users in at least one LSH table: {295, 1034, 2096, 2290, 2263, 2299}\n",
      "Query User 1053 collided with the following users in at least one LSH table: {2017, 390, 2312, 1261, 750, 2193, 379, 600, 1243, 1053, 1791}\n",
      "Query User 1080 collided with the following users in at least one LSH table: {248, 34, 1827, 614, 1094, 1832, 107, 1421, 975, 1168, 1810, 659, 2450, 1141, 1080, 1790}\n",
      "Query User 2186 collided with the following users in at least one LSH table: {1440, 2186, 1232, 2385, 1812, 437, 2103, 1275, 1276}\n"
     ]
    }
   ],
   "source": [
    "# Step 1: Define the query set Q\n",
    "query_set = [295, 1053, 1080, 2186]\n",
    "\n",
    "# Function to find collided users in LSH tables\n",
    "def find_collided_users(query_vector, lsh_tables, p, num_features, bucket_size):\n",
    "    collided_users = set()  # Use a set to avoid duplicate users\n",
    "    for lsh_table, hash_functions in lsh_tables:\n",
    "        # Compute MinHash signature for the query user\n",
    "        query_signature = tuple([minhash(query_vector, h, p, num_features) for h in hash_functions])\n",
    "        bucket = hash(query_signature) % bucket_size  # Find the bucket the query user hashes to\n",
    "        collided_users.update(lsh_table[bucket])  # Add users in the same bucket\n",
    "    return collided_users\n",
    "\n",
    "# Function to get collided users for each query user\n",
    "def get_collided_users_for_queries(query_set, lsh_tables, data):\n",
    "    collided_results = {}\n",
    "    for query_id in query_set:\n",
    "        # Get the vector for the query user\n",
    "        query_vector = data[data['User_ID'] == query_id]['Visited_Businesses'].values[0]\n",
    "        \n",
    "        # Find all users that collide with the query user in at least one LSH table\n",
    "        collided_users = find_collided_users(query_vector, lsh_tables, p, len(query_vector), bucket_size)\n",
    "        \n",
    "        # Store the results for this query user\n",
    "        collided_results[query_id] = collided_users\n",
    "    \n",
    "    return collided_results\n",
    "\n",
    "# Step 2: Get collided users for the query set Q\n",
    "collided_users_results = get_collided_users_for_queries(query_set, lsh_tables, data)\n",
    "\n",
    "# Step 3: Print the results\n",
    "for query, collided_users in collided_users_results.items():\n",
    "    print(f\"Query User {query} collided with the following users in at least one LSH table: {collided_users}\")"
   ]
  },
  {
   "cell_type": "markdown",
   "id": "b266d80f",
   "metadata": {},
   "source": [
    "2) compute the Jaccard similarity between each query q ∈ Q and each user ui ∈ Uq"
   ]
  },
  {
   "cell_type": "code",
   "execution_count": 59,
   "id": "7839befb",
   "metadata": {},
   "outputs": [
    {
     "name": "stdout",
     "output_type": "stream",
     "text": [
      "Jaccard similarities for Query User 295:\n",
      "User 1034 with Jaccard similarity: 0.2532\n",
      "User 2096 with Jaccard similarity: 0.1336\n",
      "User 2290 with Jaccard similarity: 0.1247\n",
      "User 2263 with Jaccard similarity: 0.1224\n",
      "User 2299 with Jaccard similarity: 0.1197\n",
      "Jaccard similarities for Query User 1053:\n",
      "User 2017 with Jaccard similarity: 0.4830\n",
      "User 390 with Jaccard similarity: 0.3159\n",
      "User 2312 with Jaccard similarity: 0.4093\n",
      "User 1261 with Jaccard similarity: 0.7263\n",
      "User 750 with Jaccard similarity: 0.6182\n",
      "User 2193 with Jaccard similarity: 0.4268\n",
      "User 379 with Jaccard similarity: 0.3101\n",
      "User 600 with Jaccard similarity: 0.4894\n",
      "User 1243 with Jaccard similarity: 0.7502\n",
      "User 1791 with Jaccard similarity: 0.5259\n",
      "Jaccard similarities for Query User 1080:\n",
      "User 248 with Jaccard similarity: 0.2058\n",
      "User 34 with Jaccard similarity: 0.0308\n",
      "User 1827 with Jaccard similarity: 0.5471\n",
      "User 614 with Jaccard similarity: 0.5058\n",
      "User 1094 with Jaccard similarity: 0.8361\n",
      "User 1832 with Jaccard similarity: 0.5541\n",
      "User 107 with Jaccard similarity: 0.0823\n",
      "User 1421 with Jaccard similarity: 0.6865\n",
      "User 975 with Jaccard similarity: 0.6261\n",
      "User 1168 with Jaccard similarity: 0.7696\n",
      "User 1810 with Jaccard similarity: 0.5550\n",
      "User 659 with Jaccard similarity: 0.5384\n",
      "User 2450 with Jaccard similarity: 0.4115\n",
      "User 1141 with Jaccard similarity: 0.8474\n",
      "User 1790 with Jaccard similarity: 0.5247\n",
      "Jaccard similarities for Query User 2186:\n",
      "User 1440 with Jaccard similarity: 0.6146\n",
      "User 1232 with Jaccard similarity: 0.5101\n",
      "User 2385 with Jaccard similarity: 0.8262\n",
      "User 1812 with Jaccard similarity: 0.7728\n",
      "User 437 with Jaccard similarity: 0.1881\n",
      "User 2103 with Jaccard similarity: 0.8957\n",
      "User 1275 with Jaccard similarity: 0.5309\n",
      "User 1276 with Jaccard similarity: 0.5488\n"
     ]
    }
   ],
   "source": [
    "# Function to compute Jaccard similarities between query and collided users\n",
    "def compute_jaccard_similarities(collided_users_results, data):\n",
    "    similarities_results = {}\n",
    "    \n",
    "    for query_id, collided_users in collided_users_results.items():\n",
    "        query_vector = data[data['User_ID'] == query_id]['Visited_Businesses'].values[0]\n",
    "        \n",
    "        similarities = []\n",
    "        for user_id in collided_users:\n",
    "            if user_id == query_id:  # Skip the query user itself\n",
    "                continue\n",
    "            \n",
    "            user_vector = data[data['User_ID'] == user_id]['Visited_Businesses'].values[0]\n",
    "            similarity = jaccard_similarity(query_vector, user_vector)\n",
    "            similarities.append((user_id, similarity))\n",
    "        \n",
    "        # Store similarities for this query\n",
    "        similarities_results[query_id] = similarities\n",
    "    \n",
    "    return similarities_results\n",
    "\n",
    "# Step 1: Compute Jaccard similarities for the query users and their collided users\n",
    "similarities_results = compute_jaccard_similarities(collided_users_results, data)\n",
    "\n",
    "# Step 2: Print the results\n",
    "for query, similarities in similarities_results.items():\n",
    "    print(f\"Jaccard similarities for Query User {query}:\")\n",
    "    for user, similarity in similarities:\n",
    "        print(f\"User {user} with Jaccard similarity: {similarity:.4f}\")"
   ]
  },
  {
   "cell_type": "markdown",
   "id": "9e9dd5ab",
   "metadata": {},
   "source": [
    "3) report the top-5 users with the highest Jaccard similarity for EACH query q ∈ Q. Arrange the\n",
    "list in descending order based on the Jaccard similarity. That is, the user with the highest\n",
    "Jaccard similarity should be ranked first place. The resulting list of top-5 similar users for each\n",
    "query should follow the format below:\n",
    "Query : q, Top-k : [(u1, sim(q, u1)), ..., (u5, sim(q, u5))],\n",
    "where q is the query user ID, u1, ..., u5 denotes the ID of the top-5 similar users and sim(q, ui)\n",
    "is the Jaccard similarity between the query q and its top-i similar user ui."
   ]
  },
  {
   "cell_type": "code",
   "execution_count": 60,
   "id": "cf299091",
   "metadata": {},
   "outputs": [
    {
     "name": "stdout",
     "output_type": "stream",
     "text": [
      "Query: 295, Top-5 similar users: [(1034, 0.2532), (2096, 0.1336), (2290, 0.1247), (2263, 0.1224), (2299, 0.1197)]\n",
      "Query: 1053, Top-5 similar users: [(1243, 0.7502), (1261, 0.7263), (750, 0.6182), (1791, 0.5259), (600, 0.4894)]\n",
      "Query: 1080, Top-5 similar users: [(1141, 0.8474), (1094, 0.8361), (1168, 0.7696), (1421, 0.6865), (975, 0.6261)]\n",
      "Query: 2186, Top-5 similar users: [(2103, 0.8957), (2385, 0.8262), (1812, 0.7728), (1440, 0.6146), (1276, 0.5488)]\n"
     ]
    }
   ],
   "source": [
    "# Function to get the top-5 most similar users based on Jaccard similarity\n",
    "def get_top_k_similar_users(similarities_results, k=5):\n",
    "    top_k_results = {}\n",
    "    \n",
    "    for query_id, similarities in similarities_results.items():\n",
    "        # Sort similarities in descending order\n",
    "        sorted_similarities = sorted(similarities, key=lambda x: x[1], reverse=True)\n",
    "        \n",
    "        # Get the top-k similar users\n",
    "        top_k_users = sorted_similarities[:k]\n",
    "        \n",
    "        # Store the top-k results for this query user\n",
    "        top_k_results[query_id] = top_k_users\n",
    "    \n",
    "    return top_k_results\n",
    "\n",
    "# Step 1: Get the top-5 most similar users for each query user\n",
    "top_5_similar_users = get_top_k_similar_users(similarities_results, k=5)\n",
    "\n",
    "# Step 2: Print the top-5 similar users for each query user\n",
    "for query, top_users in top_5_similar_users.items():\n",
    "    print(f\"Query: {query}, Top-5 similar users: {[(user, round(sim, 4)) for user, sim in top_users]}\")\n"
   ]
  },
  {
   "cell_type": "markdown",
   "id": "ce046838",
   "metadata": {},
   "source": [
    "b) consider the same query set Q, compute the true top-5 similar users from the dataset. That is, for\n",
    "each query q ∈ Q, compute the Jaccard similarity between the query q and all users U , and report\n",
    "the list of top-5 users with the highest Jaccard similarity in descending order. The resulting list of\n",
    "top-5 similar users for each query should follow the same format as in Question 2(a)"
   ]
  },
  {
   "cell_type": "code",
   "execution_count": 61,
   "id": "7a66d91c",
   "metadata": {},
   "outputs": [
    {
     "name": "stdout",
     "output_type": "stream",
     "text": [
      "True Top-5 similar users for Query 295: [(293, 0.708), (303, 0.7072), (374, 0.7026), (296, 0.6652), (330, 0.6561)]\n",
      "True Top-5 similar users for Query 1053: [(1052, 0.8668), (1044, 0.8629), (1054, 0.8625), (1057, 0.8617), (1043, 0.8587)]\n",
      "True Top-5 similar users for Query 1080: [(1077, 0.888), (1093, 0.8872), (1103, 0.8856), (1082, 0.8842), (1074, 0.8832)]\n",
      "True Top-5 similar users for Query 2186: [(2177, 0.9456), (2184, 0.9436), (2182, 0.9427), (2188, 0.9416), (2191, 0.9416)]\n"
     ]
    }
   ],
   "source": [
    "# Function to compute true top-5 similar users based on Jaccard similarity\n",
    "def compute_true_top_k_similar_users(query_set, data, k=5):\n",
    "    true_top_k_results = {}\n",
    "    \n",
    "    for query_id in query_set:\n",
    "        # Get the vector for the query user\n",
    "        query_vector = data[data['User_ID'] == query_id]['Visited_Businesses'].values[0]\n",
    "        \n",
    "        similarities = []\n",
    "        # Compute Jaccard similarity with every user in the dataset\n",
    "        for _, row in data.iterrows():\n",
    "            user_id = row['User_ID']\n",
    "            if user_id == query_id:  # Skip the query user itself\n",
    "                continue\n",
    "            \n",
    "            user_vector = row['Visited_Businesses']\n",
    "            similarity = jaccard_similarity(query_vector, user_vector)\n",
    "            similarities.append((user_id, similarity))\n",
    "        \n",
    "        # Sort the users by similarity in descending order and get the top-k\n",
    "        top_k_users = sorted(similarities, key=lambda x: x[1], reverse=True)[:k]\n",
    "        \n",
    "        # Store the top-k results for this query user\n",
    "        true_top_k_results[query_id] = top_k_users\n",
    "    \n",
    "    return true_top_k_results\n",
    "\n",
    "# compute the true top-5 similar users for each query user\n",
    "true_top_5_similar_users = compute_true_top_k_similar_users(query_set, data, k=5)\n",
    "\n",
    "\n",
    "for query, top_users in true_top_5_similar_users.items():\n",
    "    print(f\"True Top-5 similar users for Query {query}: {[(user, round(sim, 4)) for user, sim in top_users]}\")\n"
   ]
  },
  {
   "cell_type": "markdown",
   "id": "164dc3ac",
   "metadata": {},
   "source": [
    "# Search Quality and Efficiency\n",
    "\n",
    "### a) nvestigate the impact of the hash size k ∈ {1, 2, 3, 4} on the quality of the top-k nearest neighborsearch. Consider users with an ID range from 1001 to 2000 as the query set Q and the resulting top-5 lists in Question 2(b) as the ground truth similar users. Set the number of tables L = 10 and the bucket size m = 3000. For each value of hash size k, compute and report the top-5 precision of the results obtained by LSH in Question 2(a). The top-5 precision is defined as: Precision@5 = 1|Q|Pq∈Q| ˆRq ∩Rq  | ˆRq | ,where Rq is the set of ground truth top-5 similar users for a query q ∈ Q and ˆRq is the set of top-5 similar users returned by LSH. Plot a curve figure to show the change of precision (y-axis) v.s.the value of k (x-axis)"
   ]
  },
  {
   "cell_type": "code",
   "execution_count": 62,
   "id": "205a1493",
   "metadata": {},
   "outputs": [
    {
     "name": "stdout",
     "output_type": "stream",
     "text": [
      "Precision@5 for k=1: 0.0000\n",
      "Precision@5 for k=2: 0.0500\n",
      "Precision@5 for k=3: 0.0000\n",
      "Precision@5 for k=4: 0.0000\n"
     ]
    },
    {
     "data": {
      "image/png": "[encoded data removed]",
      "text/plain": [
       "<Figure size 640x480 with 1 Axes>"
      ]
     },
     "metadata": {},
     "output_type": "display_data"
    }
   ],
   "source": [
    "import matplotlib.pyplot as plt\n",
    "\n",
    "# Function to calculate Precision@5\n",
    "def precision_at_5(true_top_k_users, lsh_top_k_users):\n",
    "    precision_sum = 0\n",
    "    num_queries = len(true_top_k_users)\n",
    "    \n",
    "    for query_id in true_top_k_users.keys():\n",
    "        true_top_users = set([user for user, _ in true_top_k_users[query_id]])\n",
    "        lsh_top_users = set([user for user, _ in lsh_top_k_users[query_id]])\n",
    "        \n",
    "        # Precision is the ratio of intersection size to the size of the LSH set (which is 5)\n",
    "        intersection_size = len(true_top_users.intersection(lsh_top_users))\n",
    "        precision_sum += intersection_size / 5  # Precision@5 is based on top-5 users\n",
    "    \n",
    "    # Average precision over all queries\n",
    "    return precision_sum / num_queries\n",
    "\n",
    "\n",
    "\n",
    "# Function to run LSH for a given hash size k and compute Precision@5\n",
    "def run_lsh_and_compute_precision(query_set, data, true_top_k_users, k, L=10, p=7919, bucket_size=3000):\n",
    "    # Step 1: Construct LSH tables with hash size k\n",
    "    lsh_tables = construct_multiple_lsh_tables(data, L, k=k, p=p, bucket_size=bucket_size)\n",
    "    \n",
    "    # Step 2: Get top-5 most similar users from LSH method (similar to 2(a))\n",
    "    lsh_top_k_users = get_top_k_similar_users(compute_jaccard_similarities(get_collided_users_for_queries(query_set, lsh_tables, data), data), k=5)\n",
    "    \n",
    "    # Step 3: Compute Precision@5\n",
    "    precision = precision_at_5(true_top_k_users, lsh_top_k_users)\n",
    "    \n",
    "    return precision\n",
    "\n",
    "true_top_5_similar_users = compute_true_top_k_similar_users(query_set, data, k=5)\n",
    "\n",
    "#Investigate the impact of k on Precision@5\n",
    "k_values = [1, 2, 3, 4]\n",
    "precision_values = []\n",
    "\n",
    "for k in k_values:\n",
    "    precision = run_lsh_and_compute_precision(query_set, data, true_top_5_similar_users, k=k, L=10, bucket_size=3000)\n",
    "    precision_values.append(precision)\n",
    "    print(f\"Precision@5 for k={k}: {precision:.4f}\")\n",
    "\n",
    "# Step 4: Plot the curve\n",
    "plt.plot(k_values, precision_values, marker='o')\n",
    "plt.title(\"Precision@5 vs. Hash Size (k)\")\n",
    "plt.xlabel(\"Hash Size (k)\")\n",
    "plt.ylabel(\"Precision@5\")\n",
    "plt.grid(True)\n",
    "plt.show()"
   ]
  },
  {
   "cell_type": "markdown",
   "id": "273d69c3",
   "metadata": {},
   "source": [
    "### b) onsider the same query set Q in Question 3(a) and hash size k = 2. Compare the query time in Question 2(a) and Question 2(b) on average across the query set Q in milliseconds and comment ontheir differences (if any)."
   ]
  },
  {
   "cell_type": "code",
   "execution_count": 64,
   "id": "c156087e",
   "metadata": {},
   "outputs": [
    {
     "name": "stdout",
     "output_type": "stream",
     "text": [
      "Average query time for LSH-based search: 14.45 ms\n"
     ]
    },
    {
     "ename": "TypeError",
     "evalue": "measure_query_time() got an unexpected keyword argument 'k'",
     "output_type": "error",
     "traceback": [
      "\u001b[0;31m---------------------------------------------------------------------------\u001b[0m",
      "\u001b[0;31mTypeError\u001b[0m                                 Traceback (most recent call last)",
      "Cell \u001b[0;32mIn[64], line 49\u001b[0m\n\u001b[1;32m     46\u001b[0m \u001b[38;5;28mprint\u001b[39m(\u001b[38;5;124mf\u001b[39m\u001b[38;5;124m\"\u001b[39m\u001b[38;5;124mAverage query time for LSH-based search: \u001b[39m\u001b[38;5;132;01m{\u001b[39;00mavg_query_time_lsh\u001b[38;5;132;01m:\u001b[39;00m\u001b[38;5;124m.2f\u001b[39m\u001b[38;5;132;01m}\u001b[39;00m\u001b[38;5;124m ms\u001b[39m\u001b[38;5;124m\"\u001b[39m)\n\u001b[1;32m     48\u001b[0m \u001b[38;5;66;03m# Step 5: Measure average query time for exhaustive search\u001b[39;00m\n\u001b[0;32m---> 49\u001b[0m avg_query_time_exhaustive \u001b[38;5;241m=\u001b[39m \u001b[43mmeasure_exhaustive_query_time\u001b[49m\u001b[43m(\u001b[49m\u001b[43mquery_set\u001b[49m\u001b[43m,\u001b[49m\u001b[43m \u001b[49m\u001b[43mdata\u001b[49m\u001b[43m)\u001b[49m\n\u001b[1;32m     50\u001b[0m \u001b[38;5;28mprint\u001b[39m(\u001b[38;5;124mf\u001b[39m\u001b[38;5;124m\"\u001b[39m\u001b[38;5;124mAverage query time for exhaustive search: \u001b[39m\u001b[38;5;132;01m{\u001b[39;00mavg_query_time_exhaustive\u001b[38;5;132;01m:\u001b[39;00m\u001b[38;5;124m.2f\u001b[39m\u001b[38;5;132;01m}\u001b[39;00m\u001b[38;5;124m ms\u001b[39m\u001b[38;5;124m\"\u001b[39m)\n\u001b[1;32m     52\u001b[0m \u001b[38;5;66;03m# Step 6: Comment on the differences\u001b[39;00m\n",
      "Cell \u001b[0;32mIn[64], line 34\u001b[0m, in \u001b[0;36mmeasure_exhaustive_query_time\u001b[0;34m(query_set, data)\u001b[0m\n\u001b[1;32m     31\u001b[0m     query_vector \u001b[38;5;241m=\u001b[39m data[data[\u001b[38;5;124m'\u001b[39m\u001b[38;5;124mUser_ID\u001b[39m\u001b[38;5;124m'\u001b[39m] \u001b[38;5;241m==\u001b[39m query_id][\u001b[38;5;124m'\u001b[39m\u001b[38;5;124mVisited_Businesses\u001b[39m\u001b[38;5;124m'\u001b[39m]\u001b[38;5;241m.\u001b[39mvalues[\u001b[38;5;241m0\u001b[39m]\n\u001b[1;32m     33\u001b[0m     \u001b[38;5;66;03m# Measure the time taken to compute similarities with all users in the dataset\u001b[39;00m\n\u001b[0;32m---> 34\u001b[0m     elapsed_time \u001b[38;5;241m=\u001b[39m \u001b[43mmeasure_query_time\u001b[49m\u001b[43m(\u001b[49m\u001b[43mcompute_true_top_k_similar_users\u001b[49m\u001b[43m,\u001b[49m\u001b[43m \u001b[49m\u001b[43m[\u001b[49m\u001b[43mquery_id\u001b[49m\u001b[43m]\u001b[49m\u001b[43m,\u001b[49m\u001b[43m \u001b[49m\u001b[43mdata\u001b[49m\u001b[43m,\u001b[49m\u001b[43m \u001b[49m\u001b[43mk\u001b[49m\u001b[38;5;241;43m=\u001b[39;49m\u001b[38;5;241;43m5\u001b[39;49m\u001b[43m)\u001b[49m\n\u001b[1;32m     35\u001b[0m     total_time \u001b[38;5;241m+\u001b[39m\u001b[38;5;241m=\u001b[39m elapsed_time\n\u001b[1;32m     37\u001b[0m \u001b[38;5;66;03m# Compute average query time\u001b[39;00m\n",
      "\u001b[0;31mTypeError\u001b[0m: measure_query_time() got an unexpected keyword argument 'k'"
     ]
    }
   ],
   "source": [
    "import time\n",
    "\n",
    "# Function to measure query time for a given function\n",
    "def measure_query_time(func, *args):\n",
    "    start_time = time.time()\n",
    "    func(*args)\n",
    "    end_time = time.time()\n",
    "    elapsed_time = (end_time - start_time) * 1000  # Convert to milliseconds\n",
    "    return elapsed_time\n",
    "\n",
    "# Step 1: Measure query time for LSH-based nearest neighbor search\n",
    "def measure_lsh_query_time(query_set, data, k=2, L=10, p=7919, bucket_size=3000):\n",
    "    # Construct LSH tables (as done in previous tasks)\n",
    "    lsh_tables = construct_multiple_lsh_tables(data, L, k=k, p=p, bucket_size=bucket_size)\n",
    "    \n",
    "    # Measure query time for each user in the query set using LSH\n",
    "    total_time = 0\n",
    "    for query_id in query_set:\n",
    "        query_vector = data[data['User_ID'] == query_id]['Visited_Businesses'].values[0]\n",
    "        elapsed_time = measure_query_time(find_collided_users, query_vector, lsh_tables, p, len(query_vector), bucket_size)\n",
    "        total_time += elapsed_time\n",
    "    \n",
    "    # Compute average query time\n",
    "    avg_query_time_lsh = total_time / len(query_set)\n",
    "    return avg_query_time_lsh\n",
    "\n",
    "# Step 2: Measure query time for exhaustive search\n",
    "def measure_exhaustive_query_time(query_set, data):\n",
    "    total_time = 0\n",
    "    for query_id in query_set:\n",
    "        query_vector = data[data['User_ID'] == query_id]['Visited_Businesses'].values[0]\n",
    "        \n",
    "        # Measure the time taken to compute similarities with all users in the dataset\n",
    "        elapsed_time = measure_query_time(compute_true_top_k_similar_users, [query_id], data, k=5)\n",
    "        total_time += elapsed_time\n",
    "    \n",
    "    # Compute average query time\n",
    "    avg_query_time_exhaustive = total_time / len(query_set)\n",
    "    return avg_query_time_exhaustive\n",
    "\n",
    "# Step 3: Define the query set Q\n",
    "query_set = [295, 1053, 1080, 2186]\n",
    "\n",
    "# Step 4: Measure average query time for LSH-based method\n",
    "avg_query_time_lsh = measure_lsh_query_time(query_set, data, k=2, L=10, bucket_size=3000)\n",
    "print(f\"Average query time for LSH-based search: {avg_query_time_lsh:.2f} ms\")\n",
    "\n",
    "# Step 5: Measure average query time for exhaustive search\n",
    "avg_query_time_exhaustive = measure_exhaustive_query_time(query_set, data)\n",
    "print(f\"Average query time for exhaustive search: {avg_query_time_exhaustive:.2f} ms\")\n",
    "\n",
    "# Step 6: Comment on the differences\n",
    "if avg_query_time_lsh < avg_query_time_exhaustive:\n",
    "    print(\"LSH-based search is faster than exhaustive search.\")\n",
    "else:\n",
    "    print(\"Exhaustive search is faster than LSH-based search.\")\n"
   ]
  },
  {
   "cell_type": "code",
   "execution_count": null,
   "id": "80e7f572",
   "metadata": {},
   "outputs": [],
   "source": []
  }
 ],
 "metadata": {
  "kernelspec": {
   "display_name": "Python 3",
   "language": "python",
   "name": "python3"
  },
  "language_info": {
   "codemirror_mode": {
    "name": "ipython",
    "version": 3
   },
   "file_extension": ".py",
   "mimetype": "text/x-python",
   "name": "python",
   "nbconvert_exporter": "python",
   "pygments_lexer": "ipython3",
   "version": "3.8.19"
  }
 },
 "nbformat": 4,
 "nbformat_minor": 5
}
