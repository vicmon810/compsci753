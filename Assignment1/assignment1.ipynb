{
 "cells": [
  {
   "cell_type": "markdown",
   "id": "8c2d9144",
   "metadata": {},
   "source": [
    "# Task 1 Implementation of Power Iteration Algorithm"
   ]
  },
  {
   "cell_type": "markdown",
   "id": "4c3af81a",
   "metadata": {},
   "source": [
    "## (A) Implement the power iteration algorithm in matrix form to calculate the rank vector r, without teleport, using the PageRank formulation: r(t+1) = M · r(t) The matrix M is an adjacency matrix representing nodes and edges from your downloaded dataset, with rows representing destination nodes and columns representing source nodes. This matrix is sparse2. Initialize r(0) = [1/N, . . . , 1/N ]T . Let the stop criteria of your power iteration algorithm be ||r(t+1) − r(t)||1 < 0.02 (please note the stop criteria involves the L1 norm). Spider traps and dead ends are not considered in this first task."
   ]
  },
  {
   "cell_type": "code",
   "execution_count": 8,
   "id": "c505aa6c",
   "metadata": {},
   "outputs": [],
   "source": [
    "# loading needed library\n",
    "import numpy as np\n",
    "from scipy.sparse import csr_matrix\n",
    "import time\n",
    "\n",
    "def read_edges(file_path):\n",
    "    \"\"\"\n",
    "    @Param: file_path - The path to the target file containing edge data.\n",
    "    @Return: A list of tuples representing edges where each tuple contains a source node (src) and a destination node (dst).\n",
    "    @Desc: This function reads a file line by line, splits each line by spaces to extract the source (src) and destination (dst) nodes,\n",
    "           and appends each edge as a tuple (src, dst) to the 'edges' list.\n",
    "    \"\"\"\n",
    "    edges = []\n",
    "    with open(file_path, 'r') as file:\n",
    "        for line in file:\n",
    "            src, dst = map(int, line.strip().split()) #split context by space then append it into edges by src(from) and dst(to)\n",
    "            edges.append((src, dst))\n",
    "    return edges\n",
    "\n",
    "\n",
    "def build_transition_matrix(edges, num_nodes):\n",
    "    \"\"\"\n",
    "    @Param: edges - A list of tuples representing edges between nodes (source, destination).\n",
    "    @Param: num_nodes - The total number of nodes in the graph.\n",
    "    @Return: The transition matrix as a sparse matrix.\n",
    "    @Desc: This function constructs a transition matrix where each entry represents the probability of transitioning\n",
    "           from one node to another. It first calculates the out-degree (number of outgoing edges) for each node.\n",
    "           Then, it populates the transition matrix with values that are the inverse of the out-degree for each edge, \n",
    "           ensuring that the sum of probabilities for outgoing edges from any node equals 1.\n",
    "    \"\"\"\n",
    "    row = []\n",
    "    col = []\n",
    "    data = []\n",
    "    out_degree = np.zeros(num_nodes)\n",
    "\n",
    "    for src, dst in edges:\n",
    "        out_degree[src] += 1\n",
    "\n",
    "    for src, dst in edges:\n",
    "        if out_degree[src] > 0:\n",
    "            row.append(dst)\n",
    "            col.append(src)\n",
    "            data.append(1 / out_degree[src])\n",
    "\n",
    "    M = csr_matrix((data, (row, col)), shape=(num_nodes, num_nodes))\n",
    "    return M, out_degree\n",
    "\n",
    "def power_iteration(M, N, tol=0.02, max_iter=100):\n",
    "    \"\"\"\n",
    "    @Param M: The adjacency matrix representing the graph.\n",
    "    @Param num_nodes: The total number of nodes in the graph.\n",
    "    @Param max_iter: The maximum number of iterations allowed (default is 100).\n",
    "    @Param tol: The tolerance threshold for convergence (default is 0.02).\n",
    "    @Return: A tuple containing the PageRank vector, the number of iterations performed, and the computation time.\n",
    "    @Desc: This function calculates the PageRank vector using the power iteration method. It iteratively updates\n",
    "           the rank vector r according to the equation r(t+1) = M * r(t) until convergence is achieved (i.e., \n",
    "           the difference between successive rank vectors is less than the tolerance tol) or the maximum number \n",
    "           of iterations is reached.\n",
    "    \"\"\"\n",
    "    \n",
    "    \n",
    "    r = np.ones(N) / N #Initialize r(0) as [1/N, 1/N, ..., 1/N]^T\n",
    "    delta = float('inf')  # Initialize delta\n",
    "    iteration = 0  # Counting for iteration\n",
    "    \n",
    "    start_time = time.time()\n",
    "    while delta > tol and iteration < max_iter:\n",
    "        r_new = M.dot(r)  # Matrix-vector multiplication\n",
    "        \n",
    "        if not np.isfinite(r_new).all():\n",
    "            raise ValueError(\"Matrix-vector multiplication resulted in NaNs or inf values.\")\n",
    "        \n",
    "        delta = np.linalg.norm(r_new - r, 1)  # Using L1 norm\n",
    "        r = r_new\n",
    "        iteration += 1\n",
    "    \n",
    "    if iteration >= max_iter:\n",
    "        print(\"Warning: Maximum number of iterations reached.\")\n",
    "    end_time = time.time()\n",
    "    return r, iteration, end_time - start_time"
   ]
  },
  {
   "cell_type": "markdown",
   "id": "9a8ae743",
   "metadata": {},
   "source": [
    "### (B)Run your code on the provided Google web data to calculate the rank score for all the nodes. Report: (1) The running time of your power iteration algorithm; (2) Thenumber of iterations needed to stop; (3) The IDs and scores of the top-10 ranked nodes."
   ]
  },
  {
   "cell_type": "code",
   "execution_count": 9,
   "id": "b80b5ae9",
   "metadata": {},
   "outputs": [
    {
     "name": "stdout",
     "output_type": "stream",
     "text": [
      "Running time: 1.7386479377746582 seconds\n",
      "Number of iterations: 49\n",
      "Top-10 ranked nodes and their scores:\n",
      "Rank 1: Node ID 747106, Score 0.0005345603460899297\n",
      "Rank 2: Node ID 544138, Score 0.0005194744763984448\n",
      "Rank 3: Node ID 24576, Score 0.0005194744763984448\n",
      "Rank 4: Node ID 370344, Score 0.0005194744763984448\n",
      "Rank 5: Node ID 779617, Score 0.0004295776902741783\n",
      "Rank 6: Node ID 839863, Score 0.0003597691245966676\n",
      "Rank 7: Node ID 865192, Score 0.0003209062000229689\n",
      "Rank 8: Node ID 791675, Score 0.0003072127519250468\n",
      "Rank 9: Node ID 1536, Score 0.00024407134714058418\n",
      "Rank 10: Node ID 41909, Score 0.00023459915521843345\n"
     ]
    }
   ],
   "source": [
    "\n",
    "def get_top_10(rank_vector):\n",
    "    top_indices = np.argsort(rank_vector)[-10:][::-1]  # Get indices of top-10 ranked nodes\n",
    "    top_scores = rank_vector[top_indices]  # Get scores of top-10 ranked nodes\n",
    "    \n",
    "    print(f\"Running time: {running_time} seconds\")\n",
    "    print(f\"Number of iterations: {iterations}\")\n",
    "    \n",
    "    print(\"Top-10 ranked nodes and their scores:\")\n",
    "    for index, node in enumerate(top_indices):\n",
    "        print(f\"Rank {index+1}: Node ID {node}, Score {top_scores[index]}\")\n",
    "\n",
    "num_nodes = 875713\n",
    "M = read_edges(\"web-Google-final.txt\")\n",
    "M , out_links= build_transition_matrix(M,num_nodes)\n",
    "rank_vector, iterations, running_time = power_iteration(M,num_nodes)\n",
    "get_top_10(rank_vector)"
   ]
  },
  {
   "cell_type": "markdown",
   "id": "f925ab4c",
   "metadata": {},
   "source": [
    "# Task 2 [10 points]: Understanding dead-ends."
   ]
  },
  {
   "cell_type": "markdown",
   "id": "15c11a7a",
   "metadata": {},
   "source": [
    "## (A) [5 points] Calculate and report the number of dead-end nodes in your matrix"
   ]
  },
  {
   "cell_type": "code",
   "execution_count": 10,
   "id": "5c2619c5",
   "metadata": {},
   "outputs": [
    {
     "name": "stdout",
     "output_type": "stream",
     "text": [
      "187880\n"
     ]
    }
   ],
   "source": [
    "def count_dead_ends(out_links):\n",
    "    \"\"\"\n",
    "    @Param out_links: A numpy array where each element represents the out-degree of a node (i.e., the number of outgoing edges).\n",
    "    @Return: The number of dead-end nodes in the graph.\n",
    "    @Desc: This function counts the number of dead-end nodes, which are nodes with zero out-degree (i.e., nodes that have no outgoing edges).\n",
    "    \"\"\"\n",
    "    # Find nodes with zero out-degree\n",
    "    return np.sum(out_links == 0)    \n",
    "    \n",
    "\n",
    "\n",
    "\n",
    "dead_ends = count_dead_ends(out_links)\n",
    "\n",
    "\n",
    "\n",
    "print(dead_ends)\n"
   ]
  },
  {
   "cell_type": "markdown",
   "id": "77f68804",
   "metadata": {},
   "source": [
    "### (B) Calculate the leaked PageRank score in each iteration of Task 1 (B). The leaked PageRank score is the total score you lose in that iteration because of dead-ends (hint: see example on slide 2 of W1.3 lecture notes). Create a plot that shows how this leaked score behaves as iterations progress. Explain the phenomenon you observe from this visualization"
   ]
  },
  {
   "cell_type": "code",
   "execution_count": 11,
   "id": "a95d4308",
   "metadata": {},
   "outputs": [
    {
     "name": "stdout",
     "output_type": "stream",
     "text": [
      "Number of iterations: 49\n",
      "Running time: 1.88 seconds\n"
     ]
    },
    {
     "data": {
      "image/png": "[encoded data removed]",
      "text/plain": [
       "<Figure size 1000x600 with 1 Axes>"
      ]
     },
     "metadata": {},
     "output_type": "display_data"
    }
   ],
   "source": [
    "import matplotlib.pyplot as plt\n",
    "\n",
    "def power_iteration_with_leakage_tracking(M, num_nodes, out_links,max_iter=100, tol=0.02):\n",
    "    \"\"\"\n",
    "    @Param M: The adjacency matrix representing the graph.\n",
    "    @Param num_nodes: The total number of nodes in the graph.\n",
    "    @Param out_links: A numpy array representing the out-degree (number of outgoing edges) for each node.\n",
    "    @Param max_iter: The maximum number of iterations allowed (default is 100).\n",
    "    @Param tol: The tolerance threshold for convergence (default is 0.02).\n",
    "    @Return: A tuple containing the PageRank vector, the number of iterations performed, the computation time, \n",
    "             and a list of leaked PageRank scores across iterations.\n",
    "    @Desc: This function calculates the PageRank vector using the power iteration method while tracking the leakage\n",
    "           caused by dead-end nodes (nodes with zero out-degree). It iteratively updates the rank vector r and \n",
    "           calculates the leaked PageRank score at each iteration. The process continues until the rank vector \n",
    "           converges (i.e., the difference between successive rank vectors is less than the tolerance tol) or the \n",
    "           maximum number of iterations is reached.\n",
    "    \"\"\"\n",
    "    r = np.ones(num_nodes) / num_nodes #Initialize r(0) as [1/N, 1/N, ..., 1/N]^T\n",
    "    start_time = time.time()\n",
    "    leaked_scores = []#list to store recoarding of leak scores\n",
    "    dead_end_mask = np.where(out_links == 0)[0]# Find the dead-end nodes\n",
    "    delta = float('inf')  # Initialize delta\n",
    "    iteration = 0\n",
    "    while delta > tol :\n",
    "        r_new = M.dot(r)  # Matrix-vector multiplication\n",
    "        leaked_score = np.sum(r[dead_end_mask])\n",
    "        leaked_scores.append(leaked_score)  \n",
    "        if not np.isfinite(r_new).all():\n",
    "            raise ValueError(\"Matrix-vector multiplication resulted in NaNs or inf values.\")\n",
    "        \n",
    "        delta = np.linalg.norm(r_new - r, 1)  # Using L1 norm\n",
    "        r = r_new\n",
    "        iteration += 1\n",
    "    \n",
    "    if iteration >= max_iter:\n",
    "        print(\"Warning: Maximum number of iterations reached.\")\n",
    "    end_time = time.time()\n",
    "    return r, iteration, end_time - start_time, leaked_scores\n",
    "\n",
    "\n",
    "def plot_leaked_scores(leaked_scores):\n",
    "    plt.figure(figsize=(10, 6))\n",
    "    plt.plot(leaked_scores, marker='o')\n",
    "    plt.title('Leaked PageRank Score Over Iterations')\n",
    "    plt.xlabel('Iteration')\n",
    "    plt.ylabel('Leaked PageRank Score')\n",
    "    plt.grid(True)\n",
    "    plt.show()\n",
    "\n",
    "\n",
    "\n",
    "rank_vector, iterations, running_time, leaked_scores = power_iteration_with_leakage_tracking(M, num_nodes, out_links)\n",
    "\n",
    "\n",
    "\n",
    "\n",
    "\n",
    "print(f\"Number of iterations: {iterations}\")\n",
    "print(f\"Running time: {running_time:.2f} seconds\")\n",
    "\n",
    "plot_leaked_scores(leaked_scores)\n"
   ]
  },
  {
   "cell_type": "markdown",
   "id": "16dcc98e",
   "metadata": {},
   "source": [
    "## phenomenon Explaintion\n",
    "#### I can infer from the plot that the initial pagerank score—roughly 0.20—is rather high. According to the high frequency of dead ends, there is significant leakage. Additionally, the second aspect that is deserving notice is that the lead pagerank scores are steadily falling during the first ten iterations, indicating that the algorithm effectively rearranged the pagerank. Furthermore, the decline rate progressively approaches zero after 20 rounds. This indicates that by spreading the rank scores, the PageRank algorithm has successfully addressed the majority of the leakage."
   ]
  },
  {
   "cell_type": "markdown",
   "id": "aa585026",
   "metadata": {},
   "source": [
    "# Task 3 [50 points]: Implementation of Power Iteration with Teleport"
   ]
  },
  {
   "cell_type": "markdown",
   "id": "50e585b1",
   "metadata": {},
   "source": [
    "### (A)[25 points] Extend your PageRank code to handle both spider traps and dead ends using the idea of teleport. In this task, your implementation will allow to teleport randomly to any node. Code the PageRank with teleport formulation that, using the sparse matrix M, for each iteration works in three steps (slide 8 of W1.3 lecture notes)"
   ]
  },
  {
   "cell_type": "code",
   "execution_count": 12,
   "id": "86744d1a",
   "metadata": {},
   "outputs": [],
   "source": [
    "\n",
    "def power_iteration_with_teleportation(M,N, beta = 0.9, max_iter=100, tol = 0.02):\n",
    "    \"\"\"\n",
    "    @Param M: The adjacency matrix representing the graph.\n",
    "    @Param num_nodes: The total number of nodes in the graph.\n",
    "    @Param out_links: A numpy array representing the out-degree (number of outgoing edges) for each node.\n",
    "    @Param max_iter: The maximum number of iterations allowed (default is 100).\n",
    "    @Param tol: The tolerance threshold for convergence (default is 0.02).\n",
    "    @Return: A tuple containing the PageRank vector, the number of iterations performed, the computation time, \n",
    "             and a list of leaked PageRank scores across iterations.\n",
    "    @Desc: This function calculates the PageRank vector using the power iteration method while tracking the leakage\n",
    "           caused by dead-end nodes (nodes with zero out-degree). It iteratively updates the rank vector r and \n",
    "           calculates the leaked PageRank score at each iteration. The process continues until the rank vector \n",
    "           converges  or the maximum number of iterations is reached.\n",
    "    \"\"\"\n",
    "    if(beta == 1) : # means no teleport used, hence can direct use old function:        \n",
    "        return power_iteration(M,N)\n",
    "    r = np.ones(N)/N\n",
    "    start_time = time.time()\n",
    "    delta = float('inf')\n",
    "    iter= 0 \n",
    "    while delta > tol and iter < max_iter:\n",
    "        r_new = beta * (M.dot(r))\n",
    "        S = np.sum(r_new)\n",
    "        r_new = r_new + (1-S) / N\n",
    "        delta = np.linalg.norm(r_new - r,1)\n",
    "        r = r_new \n",
    "        iter +=1;\n",
    "    end_time = time.time()\n",
    "    return r, iter,end_time - start_time\n"
   ]
  },
  {
   "cell_type": "markdown",
   "id": "1be46782",
   "metadata": {},
   "source": [
    "### (B)Run your code on the provided Google web data to calculate the rank score for all the nodes. Report: (1) The running time; (2) The number of iterations needed tostop; (3) The IDs and scores of the top-10 ranked nodes"
   ]
  },
  {
   "cell_type": "code",
   "execution_count": 13,
   "id": "3302f6ca",
   "metadata": {},
   "outputs": [
    {
     "name": "stdout",
     "output_type": "stream",
     "text": [
      "Running time: 0.359464168548584 seconds\n",
      "Number of iterations: 10\n",
      "Top-10 ranked nodes and their scores:\n",
      "Rank 1: Node ID 41909, Score 0.0010427837430056878\n",
      "Rank 2: Node ID 597621, Score 0.0010085543280290267\n",
      "Rank 3: Node ID 537039, Score 0.00100092011583959\n",
      "Rank 4: Node ID 163075, Score 0.0009896658562560728\n",
      "Rank 5: Node ID 384666, Score 0.0008592863859820073\n",
      "Rank 6: Node ID 504140, Score 0.0008471523701736194\n",
      "Rank 7: Node ID 486980, Score 0.000818502229483536\n",
      "Rank 8: Node ID 558791, Score 0.0008118426515454613\n",
      "Rank 9: Node ID 32163, Score 0.0007867592578671955\n",
      "Rank 10: Node ID 605856, Score 0.0007683514792191945\n"
     ]
    }
   ],
   "source": [
    "rank_vector, iterations, running_time = power_iteration_with_teleportation(M, num_nodes)\n",
    "get_top_10(rank_vector)"
   ]
  },
  {
   "cell_type": "markdown",
   "id": "b3919374",
   "metadata": {},
   "source": [
    "### (C)Vary the teleport probability β with numbers in the set: {1, 0.9, 0.8, 0.7, 0.6}. Report the number of iterations needed to stop for each β. Explain, in words, your findingsfrom this experiment.\n",
    "\n"
   ]
  },
  {
   "cell_type": "code",
   "execution_count": 14,
   "id": "776f2570",
   "metadata": {},
   "outputs": [
    {
     "name": "stdout",
     "output_type": "stream",
     "text": [
      "Teleport Probability (β) | Number of Iterations | Running Time (s)\n",
      "1                        49                     1.78\n",
      "0.9                      10                     0.38\n",
      "0.8                      7                      0.27\n",
      "0.7                      5                      0.19\n",
      "0.6                      5                      0.19\n",
      "0.3                      3                      0.14\n",
      "0.1                      2                      0.07\n"
     ]
    }
   ],
   "source": [
    "betas = [1, 0.9, 0.8, 0.7, 0.6, 0.3, 0.1]\n",
    "results = []\n",
    "\n",
    "for beta in betas:\n",
    "    rank_vector, iterations, running_time = power_iteration_with_teleportation(M, num_nodes, beta=beta)\n",
    "    results.append((beta, iterations, running_time))\n",
    "\n",
    "print(\"Teleport Probability (β) | Number of Iterations | Running Time (s)\")\n",
    "for beta, iterations, running_time in results:\n",
    "    print(f\"{beta:<24} {iterations:<22} {running_time:.2f}\")\n"
   ]
  },
  {
   "cell_type": "markdown",
   "id": "78811bfd",
   "metadata": {},
   "source": [
    "The test demonstrates that both the PageRank algorithm's running time and its number of iterations generally decrease as the teleport probability (β) cuts. Higher β causes the algorithm to rely more on teleportation, which makes it take longer and require more iterations. On the other hand, since the technique relies more on the link structure than teleportation, a smaller β leads to a faster convergence and shorter calculation durations. Reducing β improves the overall efficiency of the PageRank algorithm by shortening the time and number of iterations required to find a stable solution.\n"
   ]
  }
 ],
 "metadata": {
  "kernelspec": {
   "display_name": "Python 3 (ipykernel)",
   "language": "python",
   "name": "python3"
  },
  "language_info": {
   "codemirror_mode": {
    "name": "ipython",
    "version": 3
   },
   "file_extension": ".py",
   "mimetype": "text/x-python",
   "name": "python",
   "nbconvert_exporter": "python",
   "pygments_lexer": "ipython3",
   "version": "3.12.2"
  }
 },
 "nbformat": 4,
 "nbformat_minor": 5
}
