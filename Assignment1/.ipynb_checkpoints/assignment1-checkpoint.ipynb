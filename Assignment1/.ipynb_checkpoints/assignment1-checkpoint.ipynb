{
 "cells": [
  {
   "cell_type": "code",
   "execution_count": 1,
   "id": "f893f383",
   "metadata": {},
   "outputs": [],
   "source": [
    "import numpy as np\n",
    "from scipy.sparse import csr_matrix"
   ]
  },
  {
   "cell_type": "code",
   "execution_count": 2,
   "id": "cf38130b-1e6a-4046-8d37-dca43e1b74b9",
   "metadata": {},
   "outputs": [],
   "source": [
    "# Read the file and parse it\n",
    "def read_edges(file_path):\n",
    "    edges = []\n",
    "    with open(file_path, 'r') as file:\n",
    "        for line in file:\n",
    "            src, dst = map(int, line.strip().split())\n",
    "            edges.append((src, dst))\n",
    "    return edges"
   ]
  },
  {
   "cell_type": "code",
   "execution_count": 3,
   "id": "51b81a9d",
   "metadata": {},
   "outputs": [],
   "source": [
    "file_location = \"web-Google-final.txt\"  \n",
    "num_nodes = 875713\n",
    "\n",
    "edges = read_edges(file_location)"
   ]
  },
  {
   "cell_type": "code",
   "execution_count": 4,
   "id": "93d0e8a3",
   "metadata": {},
   "outputs": [],
   "source": [
    "def build_transition_matrix(edges, num_nodes):\n",
    "    row = []\n",
    "    col = []\n",
    "    data = []\n",
    "    out_degree = np.zeros(num_nodes)\n",
    "\n",
    "    for src, dst in edges:\n",
    "        out_degree[src] += 1\n",
    "\n",
    "    for src, dst in edges:\n",
    "        if out_degree[src] > 0:\n",
    "            row.append(dst)\n",
    "            col.append(src)\n",
    "            data.append(1 / out_degree[src])\n",
    "\n",
    "    M = csr_matrix((data, (row, col)), shape=(num_nodes, num_nodes))\n",
    "    return M"
   ]
  },
  {
   "cell_type": "code",
   "execution_count": 5,
   "id": "e13baa27",
   "metadata": {},
   "outputs": [],
   "source": [
    "M = build_transition_matrix(edges,num_nodes)"
   ]
  },
  {
   "cell_type": "code",
   "execution_count": 6,
   "id": "50b16ce6-87d0-4156-b658-95d307755755",
   "metadata": {},
   "outputs": [],
   "source": [
    "# Power Iteration Algorithm to Calculate PageRank\n",
    "def power_iteration(M, num_nodes, max_iter=100, tol=0.02):\n",
    "    r = np.ones(num_nodes) / num_nodes\n",
    "    for i in range(max_iter):\n",
    "        r_new = M.dot(r)\n",
    "        if np.linalg.norm(r_new - r, 1) < tol:\n",
    "            return r_new, i + 1\n",
    "        r = r_new\n",
    "    return r, max_iter"
   ]
  },
  {
   "cell_type": "code",
   "execution_count": 7,
   "id": "d9f96854-edc4-438b-b2dc-d89843b5bae3",
   "metadata": {},
   "outputs": [],
   "source": [
    "def get_top_10(rank_vector):\n",
    "    top_indices = np.argsort(rank_vector)[-10:][::-1]  # Get indices of top-10 ranked nodes\n",
    "    top_scores = rank_vector[top_indices]  # Get scores of top-10 ranked nodes\n",
    "    \n",
    "    # print(f\"Running time: {running_time} seconds\")\n",
    "    print(f\"Number of iterations: {iterations}\")\n",
    "    \n",
    "    print(\"Top-10 ranked nodes and their scores:\")\n",
    "    for index, node in enumerate(top_indices):\n",
    "        print(f\"Rank {index+1}: Node ID {node}, Score {top_scores[index]}\")"
   ]
  },
  {
   "cell_type": "code",
   "execution_count": 8,
   "id": "facbb150",
   "metadata": {},
   "outputs": [],
   "source": [
    "rank_vector, iterations = power_iteration(M, num_nodes)"
   ]
  },
  {
   "cell_type": "code",
   "execution_count": 9,
   "id": "14887496",
   "metadata": {},
   "outputs": [
    {
     "name": "stdout",
     "output_type": "stream",
     "text": [
      "[2.40678500e-06 2.48276416e-07 7.33352906e-08 ... 2.70601310e-08\n",
      " 1.57849284e-07 1.66230096e-08]\n"
     ]
    }
   ],
   "source": [
    "print(rank_vector)"
   ]
  },
  {
   "cell_type": "code",
   "execution_count": 10,
   "id": "2fb2d9fe",
   "metadata": {},
   "outputs": [
    {
     "name": "stdout",
     "output_type": "stream",
     "text": [
      "49\n"
     ]
    }
   ],
   "source": [
    "print(iterations)"
   ]
  },
  {
   "cell_type": "code",
   "execution_count": 11,
   "id": "d1574646",
   "metadata": {},
   "outputs": [
    {
     "ename": "NameError",
     "evalue": "name 'num_iterations' is not defined",
     "output_type": "error",
     "traceback": [
      "\u001b[0;31m---------------------------------------------------------------------------\u001b[0m",
      "\u001b[0;31mNameError\u001b[0m                                 Traceback (most recent call last)",
      "Cell \u001b[0;32mIn[11], line 1\u001b[0m\n\u001b[0;32m----> 1\u001b[0m \u001b[43mget_top_10\u001b[49m\u001b[43m(\u001b[49m\u001b[43mrank_vector\u001b[49m\u001b[43m)\u001b[49m\n",
      "Cell \u001b[0;32mIn[7], line 6\u001b[0m, in \u001b[0;36mget_top_10\u001b[0;34m(rank_vector)\u001b[0m\n\u001b[1;32m      3\u001b[0m top_scores \u001b[38;5;241m=\u001b[39m rank_vector[top_indices]  \u001b[38;5;66;03m# Get scores of top-10 ranked nodes\u001b[39;00m\n\u001b[1;32m      5\u001b[0m \u001b[38;5;66;03m# print(f\"Running time: {running_time} seconds\")\u001b[39;00m\n\u001b[0;32m----> 6\u001b[0m \u001b[38;5;28mprint\u001b[39m(\u001b[38;5;124mf\u001b[39m\u001b[38;5;124m\"\u001b[39m\u001b[38;5;124mNumber of iterations: \u001b[39m\u001b[38;5;132;01m{\u001b[39;00m\u001b[43mnum_iterations\u001b[49m\u001b[38;5;132;01m}\u001b[39;00m\u001b[38;5;124m\"\u001b[39m)\n\u001b[1;32m      8\u001b[0m \u001b[38;5;28mprint\u001b[39m(\u001b[38;5;124m\"\u001b[39m\u001b[38;5;124mTop-10 ranked nodes and their scores:\u001b[39m\u001b[38;5;124m\"\u001b[39m)\n\u001b[1;32m      9\u001b[0m \u001b[38;5;28;01mfor\u001b[39;00m index, node \u001b[38;5;129;01min\u001b[39;00m \u001b[38;5;28menumerate\u001b[39m(top_indices):\n",
      "\u001b[0;31mNameError\u001b[0m: name 'num_iterations' is not defined"
     ]
    }
   ],
   "source": [
    "get_top_10(rank_vector)"
   ]
  },
  {
   "cell_type": "code",
   "execution_count": null,
   "id": "69ab8305-df38-4391-b562-e5b6545a9f5d",
   "metadata": {},
   "outputs": [],
   "source": []
  },
  {
   "cell_type": "code",
   "execution_count": null,
   "id": "2f238be6-ebe0-4355-b0bb-962e56d30ec0",
   "metadata": {},
   "outputs": [],
   "source": []
  },
  {
   "cell_type": "code",
   "execution_count": null,
   "id": "55a7abc3-546b-46a3-bde3-8a82c9c9ad1d",
   "metadata": {},
   "outputs": [],
   "source": []
  }
 ],
 "metadata": {
  "kernelspec": {
   "display_name": "Python 3 (ipykernel)",
   "language": "python",
   "name": "python3"
  },
  "language_info": {
   "codemirror_mode": {
    "name": "ipython",
    "version": 3
   },
   "file_extension": ".py",
   "mimetype": "text/x-python",
   "name": "python",
   "nbconvert_exporter": "python",
   "pygments_lexer": "ipython3",
   "version": "3.12.2"
  }
 },
 "nbformat": 4,
 "nbformat_minor": 5
}
