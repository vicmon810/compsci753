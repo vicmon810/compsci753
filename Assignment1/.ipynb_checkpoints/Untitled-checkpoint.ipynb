{
 "cells": [
  {
   "cell_type": "code",
   "execution_count": null,
   "id": "aef58682-d2f9-4508-8408-3e44d7fe9a74",
   "metadata": {},
   "outputs": [],
   "source": [
    "import numpy as np"
   ]
  },
  {
   "cell_type": "code",
   "execution_count": null,
   "id": "54b6640c-bf55-442a-bc4c-9095173536b9",
   "metadata": {},
   "outputs": [],
   "source": [
    "def read_edge_list(file_path):\n",
    "    edges = []\n",
    "    with open(file_path, 'r') as file:\n",
    "        for line in file:\n",
    "            source, target = map(int, line.strip().split())\n",
    "            edges.append((source, target))\n",
    "    return edges"
   ]
  },
  {
   "cell_type": "code",
   "execution_count": null,
   "id": "752a35b3-a584-4abc-bd19-94b7c2863b9d",
   "metadata": {},
   "outputs": [],
   "source": [
    "file = \"web-Google-final.txt\""
   ]
  },
  {
   "cell_type": "code",
   "execution_count": null,
   "id": "0def0c43-2de9-4b1c-9270-aa1f78c0b541",
   "metadata": {},
   "outputs": [],
   "source": [
    "edges = read_edge_list(file)"
   ]
  },
  {
   "cell_type": "code",
   "execution_count": null,
   "id": "16c3a390-e510-4e8d-a6d4-153c4c71aacc",
   "metadata": {},
   "outputs": [],
   "source": [
    "def edge_list_to_adjacency_matrix(edges):\n",
    "    # Get unique nodes\n",
    "    nodes = set()\n",
    "    for source, target in edges:\n",
    "        nodes.add(source)\n",
    "        nodes.add(target)\n",
    "    \n",
    "    node_to_index = {node: idx for idx, node in enumerate(sorted(nodes))}\n",
    "    N = len(node_to_index)\n",
    "    \n",
    "    # Create the adjacency matrix\n",
    "    M = np.zeros((N, N), dtype=float)\n",
    "    for source, target in edges:\n",
    "        i = node_to_index[source]\n",
    "        j = node_to_index[target]\n",
    "        M[j, i] = 1  # M[j, i] because rows are destination nodes\n",
    "    \n",
    "    # Normalize the matrix\n",
    "    col_sums = M.sum(axis=0)\n",
    "    M = M / col_sums  # Normalize columns to sum to 1\n",
    "    \n",
    "    return csr_matrix(M, dtype=float), node_to_index"
   ]
  },
  {
   "cell_type": "code",
   "execution_count": null,
   "id": "e42216fe-5894-4465-963d-f58789b7f1e5",
   "metadata": {},
   "outputs": [],
   "source": [
    "M, node_to_index = edge_list_to_adjacency_matrix(edges)"
   ]
  },
  {
   "cell_type": "code",
   "execution_count": null,
   "id": "debcccab-ea64-4793-b4c7-33083539fe63",
   "metadata": {},
   "outputs": [],
   "source": [
    "def power_iteration(M, tolerance=0.02, max_iterations=100):\n",
    "    N = M.shape[0]\n",
    "    r = np.ones(N) / N  # Initialize rank vector\n",
    "    for iteration in range(max_iterations):\n",
    "        r_new = M @ r  # Matrix-vector multiplication\n",
    "        if np.linalg.norm(r_new - r, 1) < tolerance:\n",
    "            return r, iteration + 1\n",
    "        r = r_new\n",
    "    return r, max_iterations\n"
   ]
  },
  {
   "cell_type": "code",
   "execution_count": null,
   "id": "04e89e63-b950-49f0-87c8-86fc4ea21c22",
   "metadata": {},
   "outputs": [],
   "source": [
    "import time\n",
    "start_time = time.time()\n",
    "\n",
    "rank_vector, num_iterations = power_iteration(M)\n",
    "\n",
    "end_time = time.time()\n",
    "running_time = end_time - start_time\n",
    "\n",
    "# Get top-10 nodes\n",
    "top_indices = np.argsort(rank_vector)[::-1][:10]\n",
    "top_scores = rank_vector[top_indices]\n",
    "top_nodes = sorted(node_to_index.keys(), key=lambda x: node_to_index[x])\n",
    "\n",
    "# Report\n",
    "print(f\"Running time: {running_time:.4f} seconds\")\n",
    "print(f\"Number of iterations: {num_iterations}\")\n",
    "\n",
    "print(\"Top-10 ranked nodes and their scores:\")\n",
    "for index, score in zip(top_indices, top_scores):\n",
    "    node_id = top_nodes[index]\n",
    "    print(f\"Node ID: {node_id}, Score: {score:.6f}\")"
   ]
  },
  {
   "cell_type": "code",
   "execution_count": null,
   "id": "ad803cf1-12e6-45a3-8395-2e90a5a0db40",
   "metadata": {},
   "outputs": [],
   "source": []
  },
  {
   "cell_type": "code",
   "execution_count": null,
   "id": "af2ce5f7-7db0-4b89-a65d-d80ac2289190",
   "metadata": {},
   "outputs": [],
   "source": []
  },
  {
   "cell_type": "code",
   "execution_count": null,
   "id": "8a6c9263-5503-4675-91bb-8719845a630f",
   "metadata": {},
   "outputs": [],
   "source": []
  },
  {
   "cell_type": "code",
   "execution_count": null,
   "id": "c885bcdf-0ac9-4f6b-b9fe-ba8fa69853b2",
   "metadata": {},
   "outputs": [],
   "source": []
  }
 ],
 "metadata": {
  "kernelspec": {
   "display_name": "Python 3 (ipykernel)",
   "language": "python",
   "name": "python3"
  },
  "language_info": {
   "codemirror_mode": {
    "name": "ipython",
    "version": 3
   },
   "file_extension": ".py",
   "mimetype": "text/x-python",
   "name": "python",
   "nbconvert_exporter": "python",
   "pygments_lexer": "ipython3",
   "version": "3.12.2"
  }
 },
 "nbformat": 4,
 "nbformat_minor": 5
}
